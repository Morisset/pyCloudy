{
 "cells": [
  {
   "cell_type": "code",
   "execution_count": 1,
   "metadata": {
    "collapsed": false,
    "jupyter": {
     "outputs_hidden": false
    }
   },
   "outputs": [],
   "source": [
    "%matplotlib inline\n",
    "import numpy as np\n",
    "import matplotlib.pyplot as plt\n",
    "import os\n",
    "home_dir = os.environ['HOME'] + '/'"
   ]
  },
  {
   "cell_type": "code",
   "execution_count": 2,
   "metadata": {
    "collapsed": false,
    "jupyter": {
     "outputs_hidden": false
    }
   },
   "outputs": [],
   "source": [
    "import pyCloudy as pc"
   ]
  },
  {
   "cell_type": "code",
   "execution_count": 3,
   "metadata": {
    "collapsed": false,
    "jupyter": {
     "outputs_hidden": false
    }
   },
   "outputs": [],
   "source": [
    "# Define verbosity to high level (will print errors, warnings and messages)\n",
    "pc.log_.level = 3"
   ]
  },
  {
   "cell_type": "code",
   "execution_count": 4,
   "metadata": {
    "collapsed": false,
    "jupyter": {
     "outputs_hidden": false
    }
   },
   "outputs": [],
   "source": [
    "# The directory in which we will have the model\n",
    "# You may want to change this to a different place so that the current directory\n",
    "# will not receive all the Cloudy files.\n",
    "dir_ = '/tmp/models/'"
   ]
  },
  {
   "cell_type": "code",
   "execution_count": 5,
   "metadata": {
    "collapsed": false,
    "jupyter": {
     "outputs_hidden": false
    }
   },
   "outputs": [],
   "source": [
    "# Define some parameters of the model:\n",
    "model_name = 'model_1'\n",
    "full_model_name = '{0}{1}'.format(dir_, model_name)\n",
    "dens = 2. #log cm-3\n",
    "Teff = 45000. #K\n",
    "qH = 47. #s-1\n",
    "r_min = 5e17 #cm\n",
    "dist = 1.26 #kpc"
   ]
  },
  {
   "cell_type": "code",
   "execution_count": 6,
   "metadata": {
    "collapsed": false,
    "jupyter": {
     "outputs_hidden": false
    }
   },
   "outputs": [],
   "source": [
    "# these are the commands common to all the models (here only one ...)\n",
    "options = ('no molecules',\n",
    "            'no level2 lines',\n",
    "            'no fine opacities',\n",
    "            'atom h-like levels small',\n",
    "            'atom he-like levels small',\n",
    "            'COSMIC RAY BACKGROUND',\n",
    "            'element limit off -8',\n",
    "            'print line optical depth', \n",
    "            )"
   ]
  },
  {
   "cell_type": "code",
   "execution_count": 7,
   "metadata": {
    "collapsed": false,
    "jupyter": {
     "outputs_hidden": false
    }
   },
   "outputs": [],
   "source": [
    "emis_tab_c13 = ['H  1  4861',\n",
    "            'H  1  6563',\n",
    "            'He 1  5876',\n",
    "            'N  2  6584',\n",
    "            'O  1  6300',\n",
    "            'O II  3726',\n",
    "            'O II  3729',\n",
    "            'O  3  5007',\n",
    "            'TOTL  4363',\n",
    "            'S II  6716',\n",
    "            'S II 6731',\n",
    "            'Cl 3 5518',\n",
    "            'Cl 3 5538',\n",
    "            'O  1 63.17m',\n",
    "            'O  1 145.5m',\n",
    "            'C  2 157.6m']"
   ]
  },
  {
   "cell_type": "code",
   "execution_count": 8,
   "metadata": {
    "collapsed": false,
    "jupyter": {
     "outputs_hidden": false
    }
   },
   "outputs": [],
   "source": [
    "emis_tab = ['H  1  4861.33A',\n",
    "            'H  1  6562.81A',\n",
    "            'Ca B  5875.64A',\n",
    "            'N  2  6583.45A',\n",
    "            'O  1  6300.30A',\n",
    "            'O  2  3726.03A',\n",
    "            'O  2  3728.81A',\n",
    "            'O  3  5006.84A',\n",
    "            'BLND  4363.00A',\n",
    "            'S  2  6716.44A',\n",
    "            'S  2  6730.82A',\n",
    "            'Cl 3  5517.71A',\n",
    "            'Cl 3  5537.87A',\n",
    "            'O  1  63.1679m',\n",
    "            'O  1  145.495m',\n",
    "            'C  2  157.636m']"
   ]
  },
  {
   "cell_type": "code",
   "execution_count": 9,
   "metadata": {
    "collapsed": false,
    "jupyter": {
     "outputs_hidden": false
    }
   },
   "outputs": [],
   "source": [
    "abund = {'He' : -0.92, 'C' : 6.85 - 12, 'N' : -4.0, 'O' : -3.40, 'Ne' : -4.00, \n",
    "         'S' : -5.35, 'Ar' : -5.80, 'Fe' : -7.4, 'Cl' : -7.00}"
   ]
  },
  {
   "cell_type": "code",
   "execution_count": 10,
   "metadata": {
    "collapsed": false,
    "jupyter": {
     "outputs_hidden": false
    }
   },
   "outputs": [],
   "source": [
    "# Defining the object that will manage the input file for Cloudy\n",
    "c_input = pc.CloudyInput(full_model_name)"
   ]
  },
  {
   "cell_type": "code",
   "execution_count": 11,
   "metadata": {
    "collapsed": false,
    "jupyter": {
     "outputs_hidden": false
    }
   },
   "outputs": [],
   "source": [
    "# Filling the object with the parameters\n",
    "# Defining the ionizing SED: Effective temperature and luminosity.\n",
    "# The lumi_unit is one of the Cloudy options, like \"luminosity solar\", \"q(H)\", \"ionization parameter\", etc... \n",
    "c_input.set_BB(Teff = Teff, lumi_unit = 'q(H)', lumi_value = qH)"
   ]
  },
  {
   "cell_type": "code",
   "execution_count": 12,
   "metadata": {
    "collapsed": false,
    "jupyter": {
     "outputs_hidden": false
    }
   },
   "outputs": [],
   "source": [
    "# Defining the density. You may also use set_dlaw(parameters) if you have a density law defined in dense_fabden.cpp.\n",
    "c_input.set_cste_density(dens)"
   ]
  },
  {
   "cell_type": "code",
   "execution_count": 13,
   "metadata": {
    "collapsed": false,
    "jupyter": {
     "outputs_hidden": false
    }
   },
   "outputs": [],
   "source": [
    "# Defining the inner radius. A second parameter would be the outer radius (matter-bounded nebula).\n",
    "c_input.set_radius(r_in=np.log10(r_min))\n",
    "c_input.set_abund(ab_dict = abund, nograins = True)\n",
    "c_input.set_other(options)\n",
    "c_input.set_iterate() # (0) for no iteration, () for one iteration, (N) for N iterations.\n",
    "c_input.set_sphere() # () or (True) : sphere, or (False): open geometry.\n",
    "c_input.set_emis_tab(emis_tab) # better use read_emis_file(file) for long list of lines, where file is an external file.\n",
    "c_input.set_distance(dist=dist, unit='kpc', linear=True) # unit can be 'kpc', 'Mpc', 'parsecs', 'cm'. If linear=False, the distance is in log."
   ]
  },
  {
   "cell_type": "code",
   "execution_count": 15,
   "metadata": {
    "collapsed": false,
    "jupyter": {
     "outputs_hidden": false
    }
   },
   "outputs": [
    {
     "name": "stdout",
     "output_type": "stream",
     "text": [
      "     CloudyInput: Input writen in /tmp/models/model_1.in\n"
     ]
    }
   ],
   "source": [
    "# Writing the Cloudy inputs. to_file for writing to a file (named by full_model_name). verbose to print on the screen.\n",
    "c_input.print_input(to_file = True, verbose = False)"
   ]
  },
  {
   "cell_type": "code",
   "execution_count": 16,
   "metadata": {
    "collapsed": false,
    "jupyter": {
     "outputs_hidden": false
    }
   },
   "outputs": [
    {
     "name": "stdout",
     "output_type": "stream",
     "text": [
      "     test1: Running model_1\n"
     ]
    }
   ],
   "source": [
    "# Printing some message to the screen\n",
    "pc.log_.message('Running {0}'.format(model_name), calling = 'test1')"
   ]
  },
  {
   "cell_type": "code",
   "execution_count": 18,
   "metadata": {
    "collapsed": false,
    "jupyter": {
     "outputs_hidden": false
    }
   },
   "outputs": [
    {
     "name": "stdout",
     "output_type": "stream",
     "text": [
      "     _Config: cloudy_exe set to /usr/local/Cloudy/c17.03/source/cloudy.exe\n"
     ]
    }
   ],
   "source": [
    "# Tell pyCloudy where your cloudy executable is:\n",
    "pc.config.cloudy_exe = '/usr/local/Cloudy/c17.03/source/cloudy.exe'"
   ]
  },
  {
   "cell_type": "code",
   "execution_count": 19,
   "metadata": {
    "collapsed": false,
    "jupyter": {
     "outputs_hidden": false
    }
   },
   "outputs": [
    {
     "name": "stdout",
     "output_type": "stream",
     "text": [
      "     run_cloudy: running:  /usr/local/Cloudy/c17.03/source/cloudy.exe -p model_1\n",
      "     run_cloudy: ending:  /usr/local/Cloudy/c17.03/source/cloudy.exe -p model_1\n",
      "   test1: Cloudy ended after seconds: in 22.069740056991577\n"
     ]
    }
   ],
   "source": [
    "# Running Cloudy with a timer. Here we reset it to 0.\n",
    "pc.log_.timer('Starting Cloudy', quiet = True, calling = 'test1')\n",
    "c_input.run_cloudy()\n",
    "pc.log_.timer('Cloudy ended after seconds:', calling = 'test1')"
   ]
  },
  {
   "cell_type": "code",
   "execution_count": 20,
   "metadata": {
    "collapsed": false,
    "jupyter": {
     "outputs_hidden": false
    }
   },
   "outputs": [
    {
     "name": "stdout",
     "output_type": "stream",
     "text": [
      "     CloudyModel /tmp/models/model_1: Creating CloudyModel for /tmp/models/model_1\n",
      "     CloudyModel /tmp/models/model_1: Li abundance not defined\n",
      "     CloudyModel /tmp/models/model_1: Be abundance not defined\n",
      "     CloudyModel /tmp/models/model_1: B abundance not defined\n",
      "     CloudyModel /tmp/models/model_1: Sc abundance not defined\n",
      "     CloudyModel /tmp/models/model_1: /tmp/models/model_1.rad read\n",
      "     CloudyModel /tmp/models/model_1: Number of zones: 125\n",
      "     CloudyModel /tmp/models/model_1: /tmp/models/model_1.phy read\n",
      "     CloudyModel /tmp/models/model_1: /tmp/models/model_1.ele_H read\n",
      "     CloudyModel /tmp/models/model_1: filling H with 3 columns\n",
      "     CloudyModel /tmp/models/model_1: /tmp/models/model_1.ele_He read\n",
      "     CloudyModel /tmp/models/model_1: filling He with 3 columns\n",
      "     CloudyModel /tmp/models/model_1: /tmp/models/model_1.ele_C read\n",
      "     CloudyModel /tmp/models/model_1: filling C with 13 columns\n",
      "     CloudyModel /tmp/models/model_1: /tmp/models/model_1.ele_N read\n",
      "     CloudyModel /tmp/models/model_1: filling N with 8 columns\n",
      "     CloudyModel /tmp/models/model_1: /tmp/models/model_1.ele_O read\n",
      "     CloudyModel /tmp/models/model_1: filling O with 12 columns\n",
      "     CloudyModel /tmp/models/model_1: /tmp/models/model_1.ele_Ne read\n",
      "     CloudyModel /tmp/models/model_1: filling Ne with 11 columns\n",
      "     CloudyModel /tmp/models/model_1: /tmp/models/model_1.ele_Ar read\n",
      "     CloudyModel /tmp/models/model_1: filling Ar with 19 columns\n",
      "     CloudyModel /tmp/models/model_1: /tmp/models/model_1.ele_S read\n",
      "     CloudyModel /tmp/models/model_1: filling S with 17 columns\n",
      "     CloudyModel /tmp/models/model_1: /tmp/models/model_1.ele_Cl read\n",
      "     CloudyModel /tmp/models/model_1: filling Cl with 18 columns\n",
      "     CloudyModel /tmp/models/model_1: /tmp/models/model_1.ele_Fe read\n",
      "     CloudyModel /tmp/models/model_1: filling Fe with 27 columns\n",
      "     CloudyModel /tmp/models/model_1: /tmp/models/model_1.ele_Si read\n",
      "     CloudyModel /tmp/models/model_1: filling Si with 15 columns\n",
      "     CloudyModel /tmp/models/model_1: /tmp/models/model_1.emis read\n",
      "     CloudyModel /tmp/models/model_1: Number of emissivities: 16\n",
      "     CloudyModel /tmp/models/model_1: /tmp/models/model_1.cont read\n"
     ]
    }
   ],
   "source": [
    "# Reading the Cloudy outputs in the Mod CloudyModel object\n",
    "Mod = pc.CloudyModel(full_model_name)"
   ]
  },
  {
   "cell_type": "code",
   "execution_count": 21,
   "metadata": {
    "collapsed": false,
    "jupyter": {
     "outputs_hidden": false
    }
   },
   "outputs": [
    {
     "data": {
      "text/plain": [
       "['C3D_comments',\n",
       " 'H0_mass',\n",
       " 'H_mass',\n",
       " 'H_mass_cut',\n",
       " 'H_mass_full',\n",
       " 'Hbeta',\n",
       " 'Hbeta_cut',\n",
       " 'Hbeta_full',\n",
       " 'Hbeta_label',\n",
       " 'Hp_mass',\n",
       " 'Phi',\n",
       " 'Phi0',\n",
       " 'Q',\n",
       " 'Q0',\n",
       " 'T0',\n",
       " 'Teff',\n",
       " '_CloudyModel__H_mass_cut',\n",
       " '_CloudyModel__Hbeta_cut',\n",
       " '_CloudyModel__r_in_cut',\n",
       " '_CloudyModel__r_out_cut',\n",
       " '_CloudyModel__r_range',\n",
       " '__class__',\n",
       " '__delattr__',\n",
       " '__dict__',\n",
       " '__dir__',\n",
       " '__doc__',\n",
       " '__eq__',\n",
       " '__format__',\n",
       " '__ge__',\n",
       " '__getattribute__',\n",
       " '__gt__',\n",
       " '__hash__',\n",
       " '__init__',\n",
       " '__init_subclass__',\n",
       " '__le__',\n",
       " '__lt__',\n",
       " '__module__',\n",
       " '__ne__',\n",
       " '__new__',\n",
       " '__reduce__',\n",
       " '__reduce_ex__',\n",
       " '__repr__',\n",
       " '__setattr__',\n",
       " '__sizeof__',\n",
       " '__str__',\n",
       " '__subclasshook__',\n",
       " '__weakref__',\n",
       " '_get_H_mass_cut',\n",
       " '_get_Hbeta_cut',\n",
       " '_get_over_range',\n",
       " '_get_r_in_cut',\n",
       " '_get_r_out_cut',\n",
       " '_i_emis',\n",
       " '_i_line',\n",
       " '_init_abunds',\n",
       " '_init_all2zero',\n",
       " '_init_cont',\n",
       " '_init_emis',\n",
       " '_init_grains',\n",
       " '_init_heatcool',\n",
       " '_init_ionic',\n",
       " '_init_lin',\n",
       " '_init_opd',\n",
       " '_init_phy',\n",
       " '_init_pressure',\n",
       " '_init_rad',\n",
       " '_l_emis',\n",
       " '_quiet_div',\n",
       " '_r_out_cut_doc',\n",
       " '_read_stout',\n",
       " '_res',\n",
       " '_set_H_mass_cut',\n",
       " '_set_Hbeta_cut',\n",
       " '_set_r_in_cut',\n",
       " '_set_r_out_cut',\n",
       " 'aborted',\n",
       " 'abund',\n",
       " 'abunds',\n",
       " 'abunds_full',\n",
       " 'add_emis_from_pyneb',\n",
       " 'calling',\n",
       " 'cautions',\n",
       " 'cloudy_version',\n",
       " 'cloudy_version_major',\n",
       " 'comments',\n",
       " 'cool',\n",
       " 'cool_full',\n",
       " 'date_model',\n",
       " 'depth',\n",
       " 'depth_full',\n",
       " 'distance',\n",
       " 'dr',\n",
       " 'dr_full',\n",
       " 'drff',\n",
       " 'dv',\n",
       " 'dv_full',\n",
       " 'dvff',\n",
       " 'emis_from_pyneb',\n",
       " 'emis_full',\n",
       " 'emis_is_log',\n",
       " 'emis_labels',\n",
       " 'emis_labels_13',\n",
       " 'emis_labels_17',\n",
       " 'empty_model',\n",
       " 'ff',\n",
       " 'ff_full',\n",
       " 'gabund',\n",
       " 'gabund_full',\n",
       " 'gabund_labels',\n",
       " 'gas_mass_per_H',\n",
       " 'gasize',\n",
       " 'gdgrat',\n",
       " 'gdgrat_full',\n",
       " 'gdgrat_labels',\n",
       " 'gdsize',\n",
       " 'get_EW',\n",
       " 'get_EW2',\n",
       " 'get_G0',\n",
       " 'get_Ha_EW',\n",
       " 'get_Hb_EW',\n",
       " 'get_Hb_SB',\n",
       " 'get_T0_emis',\n",
       " 'get_T0_emis_rad',\n",
       " 'get_T0_ion_rad',\n",
       " 'get_T0_ion_rad_ne',\n",
       " 'get_T0_ion_vol',\n",
       " 'get_T0_ion_vol_ne',\n",
       " 'get_ab_ion_rad',\n",
       " 'get_ab_ion_rad_ne',\n",
       " 'get_ab_ion_vol',\n",
       " 'get_ab_ion_vol_ne',\n",
       " 'get_cont_x',\n",
       " 'get_cont_y',\n",
       " 'get_emis',\n",
       " 'get_emis_rad',\n",
       " 'get_emis_vol',\n",
       " 'get_integ_spec',\n",
       " 'get_interp_cont',\n",
       " 'get_ionic',\n",
       " 'get_line',\n",
       " 'get_ne_emis',\n",
       " 'get_ne_ion_rad_ne',\n",
       " 'get_ne_ion_vol_ne',\n",
       " 'get_t2_emis',\n",
       " 'get_t2_ion_rad_ne',\n",
       " 'get_t2_ion_vol_ne',\n",
       " 'gmass',\n",
       " 'gsize',\n",
       " 'gtemp',\n",
       " 'gtemp_full',\n",
       " 'gtemp_labels',\n",
       " 'heat',\n",
       " 'heat_full',\n",
       " 'info',\n",
       " 'intens',\n",
       " 'ionic_full',\n",
       " 'ionic_names',\n",
       " 'is_valid_ion',\n",
       " 'line_is_log',\n",
       " 'lines',\n",
       " 'liste_elem',\n",
       " 'log_',\n",
       " 'log_U',\n",
       " 'log_U_mean',\n",
       " 'log_U_mean_ne',\n",
       " 'model_name',\n",
       " 'model_name_s',\n",
       " 'nH',\n",
       " 'nH_full',\n",
       " 'nH_mean',\n",
       " 'nHff_full',\n",
       " 'n_elements',\n",
       " 'n_emis',\n",
       " 'n_gabund',\n",
       " 'n_gdgrat',\n",
       " 'n_gtemp',\n",
       " 'n_ions',\n",
       " 'n_lines',\n",
       " 'n_zones',\n",
       " 'n_zones_full',\n",
       " 'ne',\n",
       " 'ne_full',\n",
       " 'nenH',\n",
       " 'nenH_full',\n",
       " 'nenHff2_full',\n",
       " 'opd_absorp',\n",
       " 'opd_energy',\n",
       " 'opd_scat',\n",
       " 'opd_total',\n",
       " 'out',\n",
       " 'out_exists',\n",
       " 'phi',\n",
       " 'plan_par',\n",
       " 'plot_spectrum',\n",
       " 'pressure_full',\n",
       " 'print_lines',\n",
       " 'print_stats',\n",
       " 'r_in',\n",
       " 'r_in_cut',\n",
       " 'r_out',\n",
       " 'r_out_cut',\n",
       " 'r_range',\n",
       " 'rad_integ',\n",
       " 'rad_mean',\n",
       " 'radius',\n",
       " 'radius_full',\n",
       " 'read_outputs',\n",
       " 'rlines',\n",
       " 'slines',\n",
       " 't2',\n",
       " 'te',\n",
       " 'te_full',\n",
       " 'tenenH',\n",
       " 'tenenH_full',\n",
       " 'theta',\n",
       " 'thickness',\n",
       " 'thickness_full',\n",
       " 'vol_integ',\n",
       " 'vol_mean',\n",
       " 'warnings',\n",
       " 'zones',\n",
       " 'zones_full']"
      ]
     },
     "execution_count": 21,
     "metadata": {},
     "output_type": "execute_result"
    }
   ],
   "source": [
    "# Use TAB to know all the methods and variables for CloudyModel class\n",
    "# Mod.TAB\n",
    "dir(Mod) # This is the online answering way\n",
    "# Description of this class is available here: http://pythonhosted.org//pyCloudy/classpy_cloudy_1_1c1d_1_1cloudy__model_1_1_cloudy_model.html\n"
   ]
  },
  {
   "cell_type": "code",
   "execution_count": 22,
   "metadata": {
    "collapsed": false,
    "jupyter": {
     "outputs_hidden": false
    }
   },
   "outputs": [
    {
     "name": "stdout",
     "output_type": "stream",
     "text": [
      " Name of the model: /tmp/models/model_1\n",
      " R_in (cut) = 5.000e+17 (5.000e+17), R_out (cut) = 1.939e+18 (1.939e+18)\n",
      " H+ mass = 2.37e+00, H mass = 2.52e+00 N zones: 125\n",
      " <H+/H> = 0.97, <He++/He> = 0.00, <He+/He> = 0.86\n",
      " <O+++/O> = 0.00, <O++/O> = 0.29, <O+/O> = 0.67\n",
      " <N+++/N> = 0.00, <N++/N> = 0.40, <N+/N> = 0.58\n",
      " T(O+++) = 7764, T(O++) = 7577, T(O+) = 7843\n",
      " <ne> = 104,  <nH> = 100, T0 = 7766, t2=0.0016\n",
      " <log U> = -2.80\n"
     ]
    }
   ],
   "source": [
    "Mod.print_stats()"
   ]
  },
  {
   "cell_type": "code",
   "execution_count": 23,
   "metadata": {
    "collapsed": false,
    "jupyter": {
     "outputs_hidden": false
    }
   },
   "outputs": [
    {
     "name": "stdout",
     "output_type": "stream",
     "text": [
      "H__1_486133A 4.637053e+34\n",
      "H__1_656281A 1.267538e+35\n",
      "CA_B_587564A 7.136816e+33\n",
      "N__2_658345A 6.658485e+34\n",
      "O__1_630030A 1.358439e+33\n",
      "O__2_372603A 4.639327e+34\n",
      "O__2_372881A 6.243784e+34\n",
      "O__3_500684A 5.514322e+34\n",
      "BLND_436300A 1.262594e+32\n",
      "S__2_671644A 7.941770e+33\n",
      "S__2_673082A 6.103183e+33\n",
      "CL_3_551771A 1.305046e+32\n",
      "CL_3_553787A 9.320950e+31\n",
      "O__1_631679M 8.775722e+32\n",
      "O__1_145495M 8.559353e+31\n",
      "C__2_157636M 1.709862e+32\n"
     ]
    }
   ],
   "source": [
    "Mod.print_lines()"
   ]
  },
  {
   "cell_type": "code",
   "execution_count": 24,
   "metadata": {
    "collapsed": false,
    "jupyter": {
     "outputs_hidden": false
    }
   },
   "outputs": [
    {
     "data": {
      "text/plain": [
       "0.2939651614390665"
      ]
     },
     "execution_count": 24,
     "metadata": {},
     "output_type": "execute_result"
    }
   ],
   "source": [
    "Mod.get_ab_ion_vol_ne('O',2)"
   ]
  },
  {
   "cell_type": "code",
   "execution_count": 25,
   "metadata": {
    "collapsed": false,
    "jupyter": {
     "outputs_hidden": false
    }
   },
   "outputs": [
    {
     "data": {
      "text/plain": [
       "7577.255063191301"
      ]
     },
     "execution_count": 25,
     "metadata": {},
     "output_type": "execute_result"
    }
   ],
   "source": [
    "Mod.get_T0_ion_vol_ne('O', 2)"
   ]
  },
  {
   "cell_type": "code",
   "execution_count": 26,
   "metadata": {
    "collapsed": false,
    "jupyter": {
     "outputs_hidden": false
    }
   },
   "outputs": [
    {
     "data": {
      "text/plain": [
       "-2.796003889158078"
      ]
     },
     "execution_count": 26,
     "metadata": {},
     "output_type": "execute_result"
    }
   ],
   "source": [
    "Mod.log_U_mean"
   ]
  },
  {
   "cell_type": "code",
   "execution_count": 27,
   "metadata": {
    "collapsed": false,
    "jupyter": {
     "outputs_hidden": false
    }
   },
   "outputs": [
    {
     "data": {
      "text/plain": [
       "-2.778468651776021"
      ]
     },
     "execution_count": 27,
     "metadata": {},
     "output_type": "execute_result"
    }
   ],
   "source": [
    "Mod.log_U_mean_ne"
   ]
  },
  {
   "cell_type": "code",
   "execution_count": 28,
   "metadata": {
    "collapsed": false,
    "jupyter": {
     "outputs_hidden": false
    }
   },
   "outputs": [
    {
     "name": "stdout",
     "output_type": "stream",
     "text": [
      "T0 =  7766.0K, t2 = 0.0016\n"
     ]
    }
   ],
   "source": [
    "print('T0 = {0:7.1f}K, t2 = {1:6.4f}'.format(Mod.T0, Mod.t2))"
   ]
  },
  {
   "cell_type": "code",
   "execution_count": 29,
   "metadata": {
    "collapsed": false,
    "jupyter": {
     "outputs_hidden": false
    }
   },
   "outputs": [
    {
     "name": "stdout",
     "output_type": "stream",
     "text": [
      "Hbeta Equivalent width = -709.5, Hbeta Surface Brightness = 9.23e-14\n"
     ]
    }
   ],
   "source": [
    "print('Hbeta Equivalent width = {0:6.1f}, Hbeta Surface Brightness = {1:4.2e}'.format(Mod.get_Hb_EW(), Mod.get_Hb_SB()))"
   ]
  },
  {
   "cell_type": "code",
   "execution_count": 30,
   "metadata": {
    "collapsed": false,
    "jupyter": {
     "outputs_hidden": false
    }
   },
   "outputs": [
    {
     "data": {
      "text/plain": [
       "array(['H__1_486133A', 'H__1_656281A', 'CA_B_587564A', 'N__2_658345A',\n",
       "       'O__1_630030A', 'O__2_372603A', 'O__2_372881A', 'O__3_500684A',\n",
       "       'BLND_436300A', 'S__2_671644A', 'S__2_673082A', 'CL_3_551771A',\n",
       "       'CL_3_553787A', 'O__1_631679M', 'O__1_145495M', 'C__2_157636M'],\n",
       "      dtype='<U12')"
      ]
     },
     "execution_count": 30,
     "metadata": {},
     "output_type": "execute_result"
    }
   ],
   "source": [
    "Mod.emis_labels"
   ]
  },
  {
   "cell_type": "code",
   "execution_count": 31,
   "metadata": {
    "collapsed": false,
    "jupyter": {
     "outputs_hidden": false
    }
   },
   "outputs": [
    {
     "name": "stdout",
     "output_type": "stream",
     "text": [
      "H__1_486133A  4.637e+34  100.00\n",
      "H__1_656281A  1.268e+35  273.35\n",
      "CA_B_587564A  7.137e+33   15.39\n",
      "N__2_658345A  6.658e+34  143.59\n",
      "O__1_630030A  1.358e+33    2.93\n",
      "O__2_372603A  4.639e+34  100.05\n",
      "O__2_372881A  6.244e+34  134.65\n",
      "O__3_500684A  5.514e+34  118.92\n",
      "BLND_436300A  1.263e+32    0.27\n",
      "S__2_671644A  7.942e+33   17.13\n",
      "S__2_673082A  6.103e+33   13.16\n",
      "CL_3_551771A  1.305e+32    0.28\n",
      "CL_3_553787A  9.321e+31    0.20\n",
      "O__1_631679M  8.776e+32    1.89\n",
      "O__1_145495M  8.559e+31    0.18\n",
      "C__2_157636M  1.710e+32    0.37\n"
     ]
    }
   ],
   "source": [
    "# printing line intensities\n",
    "for line in Mod.emis_labels:\n",
    "    print('{0} {1:10.3e} {2:7.2f}'.format(line, Mod.get_emis_vol(line), Mod.get_emis_vol(line) / Mod.get_emis_vol('H__1_486133A') * 100.))"
   ]
  },
  {
   "cell_type": "code",
   "execution_count": 32,
   "metadata": {
    "collapsed": false,
    "jupyter": {
     "outputs_hidden": false
    }
   },
   "outputs": [
    {
     "data": {
      "image/png": "[encoded data removed]",
      "text/plain": [
       "<Figure size 720x720 with 1 Axes>"
      ]
     },
     "metadata": {
      "needs_background": "light"
     },
     "output_type": "display_data"
    }
   ],
   "source": [
    "plt.figure(figsize=(10,10))\n",
    "plt.plot(Mod.radius, Mod.te, label = 'Te')\n",
    "plt.legend(loc=3);"
   ]
  },
  {
   "cell_type": "code",
   "execution_count": 33,
   "metadata": {
    "collapsed": false,
    "jupyter": {
     "outputs_hidden": false
    }
   },
   "outputs": [
    {
     "data": {
      "image/png": "[encoded data removed]",
      "text/plain": [
       "<Figure size 720x720 with 1 Axes>"
      ]
     },
     "metadata": {
      "needs_background": "light"
     },
     "output_type": "display_data"
    }
   ],
   "source": [
    "plt.figure(figsize=(10,10))\n",
    "plt.plot(Mod.radius, Mod.get_emis('H__1_486133A'), label = r'H$\\beta$')\n",
    "plt.plot(Mod.radius, Mod.get_emis('O__3_500684A'), label = '[OIII]')\n",
    "plt.plot(Mod.radius, Mod.get_emis('N__2_658345A'), label = '[NII]')\n",
    "plt.legend();"
   ]
  },
  {
   "cell_type": "code",
   "execution_count": 34,
   "metadata": {
    "collapsed": false,
    "jupyter": {
     "outputs_hidden": false
    }
   },
   "outputs": [
    {
     "data": {
      "image/png": "[encoded data removed]",
      "text/plain": [
       "<Figure size 720x720 with 1 Axes>"
      ]
     },
     "metadata": {
      "needs_background": "light"
     },
     "output_type": "display_data"
    }
   ],
   "source": [
    "plt.figure(figsize=(10,10))\n",
    "plt.plot(Mod.radius, Mod.get_ionic('H', 1), label = 'H+')\n",
    "plt.plot(Mod.radius, Mod.get_ionic('O', 1), label = 'O+')\n",
    "plt.plot(Mod.radius, Mod.get_ionic('O', 2), label = 'O++')\n",
    "plt.legend(loc=3);"
   ]
  },
  {
   "cell_type": "code",
   "execution_count": 35,
   "metadata": {
    "collapsed": false,
    "jupyter": {
     "outputs_hidden": false
    }
   },
   "outputs": [
    {
     "data": {
      "image/png": "[encoded data removed]",
      "text/plain": [
       "<Figure size 720x720 with 2 Axes>"
      ]
     },
     "metadata": {
      "needs_background": "light"
     },
     "output_type": "display_data"
    }
   ],
   "source": [
    "plt.figure(figsize=(10,10))\n",
    "plt.scatter(Mod.te/1e3, Mod.ne/1e4, c = Mod.depth/np.max(Mod.depth), edgecolors = 'none')\n",
    "plt.colorbar()\n",
    "plt.xlabel('Te [kK]')\n",
    "plt.ylabel(r'Ne [$10^4$ cm$^{-3}$]');"
   ]
  },
  {
   "cell_type": "code",
   "execution_count": 36,
   "metadata": {
    "collapsed": false,
    "jupyter": {
     "outputs_hidden": false
    }
   },
   "outputs": [
    {
     "data": {
      "image/png": "[encoded data removed]",
      "text/plain": [
       "<Figure size 720x720 with 1 Axes>"
      ]
     },
     "metadata": {
      "needs_background": "light"
     },
     "output_type": "display_data"
    }
   ],
   "source": [
    "plt.figure(figsize=(10,10))\n",
    "plt.loglog(Mod.get_cont_x(unit='Ang'), Mod.get_cont_y(cont = 'incid', unit = 'Jy'), label = 'Incident')\n",
    "plt.loglog(Mod.get_cont_x(unit='Ang'), Mod.get_cont_y(cont = 'diffout', unit = 'Jy'), label = 'Diff Out')\n",
    "plt.loglog(Mod.get_cont_x(unit='Ang'), Mod.get_cont_y(cont = 'ntrans', unit = 'Jy'), label = 'Net Trans')\n",
    "plt.xlim((100, 100000))\n",
    "plt.ylim((1e-9, 1e1))\n",
    "plt.xlabel('Angstrom')\n",
    "plt.ylabel('Jy')\n",
    "plt.legend(loc=4);"
   ]
  },
  {
   "cell_type": "code",
   "execution_count": null,
   "metadata": {},
   "outputs": [],
   "source": []
  }
 ],
 "metadata": {
  "kernelspec": {
   "display_name": "Python 3",
   "language": "python",
   "name": "python3"
  },
  "language_info": {
   "codemirror_mode": {
    "name": "ipython",
    "version": 3
   },
   "file_extension": ".py",
   "mimetype": "text/x-python",
   "name": "python",
   "nbconvert_exporter": "python",
   "pygments_lexer": "ipython3",
   "version": "3.9.5"
  }
 },
 "nbformat": 4,
 "nbformat_minor": 4
}
